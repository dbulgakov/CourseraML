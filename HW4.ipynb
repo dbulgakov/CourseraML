{
 "cells": [
  {
   "cell_type": "code",
   "execution_count": 1,
   "metadata": {},
   "outputs": [],
   "source": [
    "from pandas import Series, DataFrame\n",
    "import pandas as pd\n",
    "import numpy as np\n",
    "import matplotlib.pylab as plt\n",
    "from sklearn.model_selection import train_test_split\n",
    "from sklearn import preprocessing\n",
    "from sklearn.cluster import KMeans\n",
    "from scipy.spatial.distance import cdist\n",
    "from sklearn.decomposition import PCA\n",
    "import statsmodels.formula.api as smf\n",
    "import statsmodels.stats.multicomp as multi \n",
    "%matplotlib inline\n",
    "RND_STATE = 55121"
   ]
  },
  {
   "cell_type": "markdown",
   "metadata": {},
   "source": [
    "### 1. Loading data"
   ]
  },
  {
   "cell_type": "code",
   "execution_count": 2,
   "metadata": {
    "collapsed": true
   },
   "outputs": [],
   "source": [
    "data = pd.read_csv(\"data/tree_addhealth.csv\")\n",
    "data.columns = map(str.upper, data.columns)"
   ]
  },
  {
   "cell_type": "markdown",
   "metadata": {},
   "source": [
    "#### 1.1 Removing rows with incomplete data"
   ]
  },
  {
   "cell_type": "code",
   "execution_count": 3,
   "metadata": {
    "collapsed": true
   },
   "outputs": [],
   "source": [
    "data_clean = data.dropna()"
   ]
  },
  {
   "cell_type": "markdown",
   "metadata": {},
   "source": [
    "#### 1.2 Selecting clustering variables"
   ]
  },
  {
   "cell_type": "code",
   "execution_count": 4,
   "metadata": {},
   "outputs": [],
   "source": [
    "cluster=data_clean[['ALCEVR1','MAREVER1','ALCPROBS1','DEVIANT1','VIOL1',\n",
    "'DEP1','ESTEEM1','SCHCONN1','PARACTV', 'PARPRES','FAMCONCT']]"
   ]
  },
  {
   "cell_type": "code",
   "execution_count": 5,
   "metadata": {},
   "outputs": [
    {
     "data": {
      "text/html": [
       "<div>\n",
       "<style>\n",
       "    .dataframe thead tr:only-child th {\n",
       "        text-align: right;\n",
       "    }\n",
       "\n",
       "    .dataframe thead th {\n",
       "        text-align: left;\n",
       "    }\n",
       "\n",
       "    .dataframe tbody tr th {\n",
       "        vertical-align: top;\n",
       "    }\n",
       "</style>\n",
       "<table border=\"1\" class=\"dataframe\">\n",
       "  <thead>\n",
       "    <tr style=\"text-align: right;\">\n",
       "      <th></th>\n",
       "      <th>ALCEVR1</th>\n",
       "      <th>MAREVER1</th>\n",
       "      <th>ALCPROBS1</th>\n",
       "      <th>DEVIANT1</th>\n",
       "      <th>VIOL1</th>\n",
       "      <th>DEP1</th>\n",
       "      <th>ESTEEM1</th>\n",
       "      <th>SCHCONN1</th>\n",
       "      <th>PARACTV</th>\n",
       "      <th>PARPRES</th>\n",
       "      <th>FAMCONCT</th>\n",
       "    </tr>\n",
       "  </thead>\n",
       "  <tbody>\n",
       "    <tr>\n",
       "      <th>count</th>\n",
       "      <td>4575.000000</td>\n",
       "      <td>4575.000000</td>\n",
       "      <td>4575.000000</td>\n",
       "      <td>4575.000000</td>\n",
       "      <td>4575.000000</td>\n",
       "      <td>4575.000000</td>\n",
       "      <td>4575.000000</td>\n",
       "      <td>4575.000000</td>\n",
       "      <td>4575.000000</td>\n",
       "      <td>4575.000000</td>\n",
       "      <td>4575.000000</td>\n",
       "    </tr>\n",
       "    <tr>\n",
       "      <th>mean</th>\n",
       "      <td>0.527432</td>\n",
       "      <td>0.241967</td>\n",
       "      <td>0.369180</td>\n",
       "      <td>2.645027</td>\n",
       "      <td>1.618579</td>\n",
       "      <td>8.537049</td>\n",
       "      <td>40.952131</td>\n",
       "      <td>28.360656</td>\n",
       "      <td>6.290710</td>\n",
       "      <td>13.398033</td>\n",
       "      <td>22.570557</td>\n",
       "    </tr>\n",
       "    <tr>\n",
       "      <th>std</th>\n",
       "      <td>0.499302</td>\n",
       "      <td>0.428321</td>\n",
       "      <td>0.894947</td>\n",
       "      <td>3.520554</td>\n",
       "      <td>2.593230</td>\n",
       "      <td>6.571052</td>\n",
       "      <td>5.381439</td>\n",
       "      <td>5.156385</td>\n",
       "      <td>3.360219</td>\n",
       "      <td>2.085837</td>\n",
       "      <td>2.614754</td>\n",
       "    </tr>\n",
       "    <tr>\n",
       "      <th>min</th>\n",
       "      <td>0.000000</td>\n",
       "      <td>0.000000</td>\n",
       "      <td>0.000000</td>\n",
       "      <td>0.000000</td>\n",
       "      <td>0.000000</td>\n",
       "      <td>0.000000</td>\n",
       "      <td>18.000000</td>\n",
       "      <td>6.000000</td>\n",
       "      <td>0.000000</td>\n",
       "      <td>3.000000</td>\n",
       "      <td>6.300000</td>\n",
       "    </tr>\n",
       "    <tr>\n",
       "      <th>25%</th>\n",
       "      <td>0.000000</td>\n",
       "      <td>0.000000</td>\n",
       "      <td>0.000000</td>\n",
       "      <td>0.000000</td>\n",
       "      <td>0.000000</td>\n",
       "      <td>4.000000</td>\n",
       "      <td>38.000000</td>\n",
       "      <td>25.000000</td>\n",
       "      <td>4.000000</td>\n",
       "      <td>12.000000</td>\n",
       "      <td>21.700000</td>\n",
       "    </tr>\n",
       "    <tr>\n",
       "      <th>50%</th>\n",
       "      <td>1.000000</td>\n",
       "      <td>0.000000</td>\n",
       "      <td>0.000000</td>\n",
       "      <td>1.000000</td>\n",
       "      <td>0.000000</td>\n",
       "      <td>7.000000</td>\n",
       "      <td>40.000000</td>\n",
       "      <td>29.000000</td>\n",
       "      <td>6.000000</td>\n",
       "      <td>14.000000</td>\n",
       "      <td>23.700000</td>\n",
       "    </tr>\n",
       "    <tr>\n",
       "      <th>75%</th>\n",
       "      <td>1.000000</td>\n",
       "      <td>0.000000</td>\n",
       "      <td>0.000000</td>\n",
       "      <td>4.000000</td>\n",
       "      <td>2.000000</td>\n",
       "      <td>12.000000</td>\n",
       "      <td>45.000000</td>\n",
       "      <td>32.000000</td>\n",
       "      <td>9.000000</td>\n",
       "      <td>15.000000</td>\n",
       "      <td>24.300000</td>\n",
       "    </tr>\n",
       "    <tr>\n",
       "      <th>max</th>\n",
       "      <td>1.000000</td>\n",
       "      <td>1.000000</td>\n",
       "      <td>6.000000</td>\n",
       "      <td>27.000000</td>\n",
       "      <td>19.000000</td>\n",
       "      <td>48.000000</td>\n",
       "      <td>50.000000</td>\n",
       "      <td>38.000000</td>\n",
       "      <td>18.000000</td>\n",
       "      <td>15.000000</td>\n",
       "      <td>25.000000</td>\n",
       "    </tr>\n",
       "  </tbody>\n",
       "</table>\n",
       "</div>"
      ],
      "text/plain": [
       "           ALCEVR1     MAREVER1    ALCPROBS1     DEVIANT1        VIOL1  \\\n",
       "count  4575.000000  4575.000000  4575.000000  4575.000000  4575.000000   \n",
       "mean      0.527432     0.241967     0.369180     2.645027     1.618579   \n",
       "std       0.499302     0.428321     0.894947     3.520554     2.593230   \n",
       "min       0.000000     0.000000     0.000000     0.000000     0.000000   \n",
       "25%       0.000000     0.000000     0.000000     0.000000     0.000000   \n",
       "50%       1.000000     0.000000     0.000000     1.000000     0.000000   \n",
       "75%       1.000000     0.000000     0.000000     4.000000     2.000000   \n",
       "max       1.000000     1.000000     6.000000    27.000000    19.000000   \n",
       "\n",
       "              DEP1      ESTEEM1     SCHCONN1      PARACTV      PARPRES  \\\n",
       "count  4575.000000  4575.000000  4575.000000  4575.000000  4575.000000   \n",
       "mean      8.537049    40.952131    28.360656     6.290710    13.398033   \n",
       "std       6.571052     5.381439     5.156385     3.360219     2.085837   \n",
       "min       0.000000    18.000000     6.000000     0.000000     3.000000   \n",
       "25%       4.000000    38.000000    25.000000     4.000000    12.000000   \n",
       "50%       7.000000    40.000000    29.000000     6.000000    14.000000   \n",
       "75%      12.000000    45.000000    32.000000     9.000000    15.000000   \n",
       "max      48.000000    50.000000    38.000000    18.000000    15.000000   \n",
       "\n",
       "          FAMCONCT  \n",
       "count  4575.000000  \n",
       "mean     22.570557  \n",
       "std       2.614754  \n",
       "min       6.300000  \n",
       "25%      21.700000  \n",
       "50%      23.700000  \n",
       "75%      24.300000  \n",
       "max      25.000000  "
      ]
     },
     "execution_count": 5,
     "metadata": {},
     "output_type": "execute_result"
    }
   ],
   "source": [
    "cluster.describe()"
   ]
  },
  {
   "cell_type": "markdown",
   "metadata": {},
   "source": [
    "### 2. Preprocessing data"
   ]
  },
  {
   "cell_type": "markdown",
   "metadata": {},
   "source": [
    "#### 2.1 Scaling data"
   ]
  },
  {
   "cell_type": "code",
   "execution_count": 6,
   "metadata": {
    "collapsed": true
   },
   "outputs": [],
   "source": [
    "clustervar=cluster.copy()\n",
    "clustervar['ALCEVR1']=preprocessing.scale(clustervar['ALCEVR1'].astype('float64'))\n",
    "clustervar['ALCPROBS1']=preprocessing.scale(clustervar['ALCPROBS1'].astype('float64'))\n",
    "clustervar['MAREVER1']=preprocessing.scale(clustervar['MAREVER1'].astype('float64'))\n",
    "clustervar['DEP1']=preprocessing.scale(clustervar['DEP1'].astype('float64'))\n",
    "clustervar['ESTEEM1']=preprocessing.scale(clustervar['ESTEEM1'].astype('float64'))\n",
    "clustervar['VIOL1']=preprocessing.scale(clustervar['VIOL1'].astype('float64'))\n",
    "clustervar['DEVIANT1']=preprocessing.scale(clustervar['DEVIANT1'].astype('float64'))\n",
    "clustervar['FAMCONCT']=preprocessing.scale(clustervar['FAMCONCT'].astype('float64'))\n",
    "clustervar['SCHCONN1']=preprocessing.scale(clustervar['SCHCONN1'].astype('float64'))\n",
    "clustervar['PARACTV']=preprocessing.scale(clustervar['PARACTV'].astype('float64'))\n",
    "clustervar['PARPRES']=preprocessing.scale(clustervar['PARPRES'].astype('float64'))"
   ]
  },
  {
   "cell_type": "markdown",
   "metadata": {},
   "source": [
    "#### 2.2 Splitting into train test splits "
   ]
  },
  {
   "cell_type": "code",
   "execution_count": 7,
   "metadata": {
    "collapsed": true
   },
   "outputs": [],
   "source": [
    "clus_train, clus_test = train_test_split(clustervar, test_size=0.3, random_state=RND_STATE)"
   ]
  },
  {
   "cell_type": "markdown",
   "metadata": {},
   "source": [
    "### 3. Making k-means analysis for 1-9 clusters"
   ]
  },
  {
   "cell_type": "code",
   "execution_count": 8,
   "metadata": {
    "collapsed": true
   },
   "outputs": [],
   "source": [
    "clusters=range(1,10)\n",
    "meandist=[]"
   ]
  },
  {
   "cell_type": "code",
   "execution_count": 9,
   "metadata": {},
   "outputs": [],
   "source": [
    "for k in clusters:\n",
    "    model=KMeans(n_clusters=k)\n",
    "    model.fit(clus_train)\n",
    "    clusassign=model.predict(clus_train)\n",
    "    meandist.append(sum(np.min(cdist(clus_train, model.cluster_centers_, 'euclidean'), axis=1)) \n",
    "    / clus_train.shape[0])"
   ]
  },
  {
   "cell_type": "markdown",
   "metadata": {},
   "source": [
    "### 4. Plotting relation between number of clusters and average distance "
   ]
  },
  {
   "cell_type": "code",
   "execution_count": 10,
   "metadata": {},
   "outputs": [
    {
     "data": {
      "image/png": "[encoded data removed]",
      "text/plain": [
       "<matplotlib.figure.Figure at 0x1a0adcde80>"
      ]
     },
     "metadata": {},
     "output_type": "display_data"
    }
   ],
   "source": [
    "plt.plot(clusters, meandist)\n",
    "plt.xlabel('Number of clusters')\n",
    "plt.ylabel('Average distance')\n",
    "plt.title('Selecting k with the Elbow Method')\n",
    "plt.show()"
   ]
  },
  {
   "cell_type": "markdown",
   "metadata": {},
   "source": [
    "### 5. Checking solution for 3 clusters model"
   ]
  },
  {
   "cell_type": "code",
   "execution_count": 11,
   "metadata": {
    "collapsed": true
   },
   "outputs": [],
   "source": [
    "model3=KMeans(n_clusters=3)\n",
    "model3.fit(clus_train)\n",
    "clusassign=model3.predict(clus_train)"
   ]
  },
  {
   "cell_type": "markdown",
   "metadata": {},
   "source": [
    "#### 5.1 Plotting clusters"
   ]
  },
  {
   "cell_type": "code",
   "execution_count": 12,
   "metadata": {},
   "outputs": [
    {
     "data": {
      "image/png": "[encoded data removed]",
      "text/plain": [
       "<matplotlib.figure.Figure at 0x1a0b4bf978>"
      ]
     },
     "metadata": {},
     "output_type": "display_data"
    }
   ],
   "source": [
    "pca_2 = PCA(2)\n",
    "plot_columns = pca_2.fit_transform(clus_train)\n",
    "plt.scatter(x=plot_columns[:,0], y=plot_columns[:,1], c=model3.labels_,)\n",
    "plt.xlabel('Canonical variable 1')\n",
    "plt.ylabel('Canonical variable 2')\n",
    "plt.title('Scatterplot of Canonical Variables for 3 Clusters')\n",
    "plt.show()"
   ]
  },
  {
   "cell_type": "markdown",
   "metadata": {},
   "source": [
    "#### 5.2 Merging cluster assignment with clustering variables to examine cluster variable means by cluster"
   ]
  },
  {
   "cell_type": "code",
   "execution_count": 13,
   "metadata": {},
   "outputs": [],
   "source": [
    "clus_train.reset_index(level=0, inplace=True)\n",
    "cluslist=list(clus_train['index'])\n",
    "labels=list(model3.labels_)\n",
    "newlist=dict(zip(cluslist, labels))"
   ]
  },
  {
   "cell_type": "code",
   "execution_count": 14,
   "metadata": {},
   "outputs": [
    {
     "data": {
      "text/html": [
       "<div>\n",
       "<style>\n",
       "    .dataframe thead tr:only-child th {\n",
       "        text-align: right;\n",
       "    }\n",
       "\n",
       "    .dataframe thead th {\n",
       "        text-align: left;\n",
       "    }\n",
       "\n",
       "    .dataframe tbody tr th {\n",
       "        vertical-align: top;\n",
       "    }\n",
       "</style>\n",
       "<table border=\"1\" class=\"dataframe\">\n",
       "  <thead>\n",
       "    <tr style=\"text-align: right;\">\n",
       "      <th></th>\n",
       "      <th>cluster</th>\n",
       "    </tr>\n",
       "  </thead>\n",
       "  <tbody>\n",
       "    <tr>\n",
       "      <th>count</th>\n",
       "      <td>3202.000000</td>\n",
       "    </tr>\n",
       "    <tr>\n",
       "      <th>mean</th>\n",
       "      <td>1.232042</td>\n",
       "    </tr>\n",
       "    <tr>\n",
       "      <th>std</th>\n",
       "      <td>0.768115</td>\n",
       "    </tr>\n",
       "    <tr>\n",
       "      <th>min</th>\n",
       "      <td>0.000000</td>\n",
       "    </tr>\n",
       "    <tr>\n",
       "      <th>25%</th>\n",
       "      <td>1.000000</td>\n",
       "    </tr>\n",
       "    <tr>\n",
       "      <th>50%</th>\n",
       "      <td>1.000000</td>\n",
       "    </tr>\n",
       "    <tr>\n",
       "      <th>75%</th>\n",
       "      <td>2.000000</td>\n",
       "    </tr>\n",
       "    <tr>\n",
       "      <th>max</th>\n",
       "      <td>2.000000</td>\n",
       "    </tr>\n",
       "  </tbody>\n",
       "</table>\n",
       "</div>"
      ],
      "text/plain": [
       "           cluster\n",
       "count  3202.000000\n",
       "mean      1.232042\n",
       "std       0.768115\n",
       "min       0.000000\n",
       "25%       1.000000\n",
       "50%       1.000000\n",
       "75%       2.000000\n",
       "max       2.000000"
      ]
     },
     "execution_count": 14,
     "metadata": {},
     "output_type": "execute_result"
    }
   ],
   "source": [
    "newclus=DataFrame.from_dict(newlist, orient='index')\n",
    "newclus.columns = ['cluster']\n",
    "newclus.describe()"
   ]
  },
  {
   "cell_type": "code",
   "execution_count": 15,
   "metadata": {},
   "outputs": [
    {
     "data": {
      "text/plain": [
       "2    1402\n",
       "1    1141\n",
       "0     659\n",
       "Name: cluster, dtype: int64"
      ]
     },
     "execution_count": 15,
     "metadata": {},
     "output_type": "execute_result"
    }
   ],
   "source": [
    "newclus.reset_index(level=0, inplace=True)\n",
    "merged_train=pd.merge(clus_train, newclus, on='index')\n",
    "merged_train.head(n=100)\n",
    "merged_train.cluster.value_counts()"
   ]
  },
  {
   "cell_type": "markdown",
   "metadata": {},
   "source": [
    "#### 5.3 Calculating clustering variable means by cluster"
   ]
  },
  {
   "cell_type": "code",
   "execution_count": 16,
   "metadata": {},
   "outputs": [
    {
     "name": "stdout",
     "output_type": "stream",
     "text": [
      "Clustering variable means by cluster\n",
      "               index   ALCEVR1  MAREVER1  ALCPROBS1  DEVIANT1     VIOL1  \\\n",
      "cluster                                                                   \n",
      "0        3265.694992  0.685167  1.135741   0.940656  1.224217  0.856974   \n",
      "1        3289.223488  0.946562 -0.073844  -0.091315 -0.124480 -0.178736   \n",
      "2        3282.679743 -1.056455 -0.473382  -0.412562 -0.454550 -0.265520   \n",
      "\n",
      "             DEP1   ESTEEM1  SCHCONN1   PARACTV   PARPRES  FAMCONCT  \n",
      "cluster                                                              \n",
      "0        0.897279 -0.694999 -0.936129 -0.317314 -0.422218 -0.932709  \n",
      "1       -0.156971  0.137081  0.127914  0.072073  0.083139  0.143204  \n",
      "2       -0.293428  0.193017  0.316853  0.051040  0.143281  0.287596  \n"
     ]
    }
   ],
   "source": [
    "clustergrp = merged_train.groupby('cluster').mean()\n",
    "print (\"Clustering variable means by cluster\")\n",
    "print(clustergrp)"
   ]
  },
  {
   "cell_type": "markdown",
   "metadata": {},
   "source": [
    "#### 5.4 Validating clusters in training data by examining cluster differences in GPA using ANOVA"
   ]
  },
  {
   "cell_type": "code",
   "execution_count": 17,
   "metadata": {
    "collapsed": true
   },
   "outputs": [],
   "source": [
    "gpa_data=data_clean['GPA1']\n",
    "gpa_train, gpa_test = train_test_split(gpa_data, test_size=.3, random_state=RND_STATE)\n",
    "gpa_train1=pd.DataFrame(gpa_train)\n",
    "gpa_train1.reset_index(level=0, inplace=True)\n",
    "merged_train_all=pd.merge(gpa_train1, merged_train, on='index')\n",
    "sub1 = merged_train_all[['GPA1', 'cluster']].dropna()"
   ]
  },
  {
   "cell_type": "code",
   "execution_count": 18,
   "metadata": {},
   "outputs": [
    {
     "name": "stdout",
     "output_type": "stream",
     "text": [
      "                            OLS Regression Results                            \n",
      "==============================================================================\n",
      "Dep. Variable:                   GPA1   R-squared:                       0.078\n",
      "Model:                            OLS   Adj. R-squared:                  0.078\n",
      "Method:                 Least Squares   F-statistic:                     136.0\n",
      "Date:                Sat, 11 Nov 2017   Prob (F-statistic):           1.98e-57\n",
      "Time:                        19:31:12   Log-Likelihood:                -3598.7\n",
      "No. Observations:                3202   AIC:                             7203.\n",
      "Df Residuals:                    3199   BIC:                             7222.\n",
      "Df Model:                           2                                         \n",
      "Covariance Type:            nonrobust                                         \n",
      "===================================================================================\n",
      "                      coef    std err          t      P>|t|      [0.025      0.975]\n",
      "-----------------------------------------------------------------------------------\n",
      "Intercept           2.4143      0.029     83.208      0.000       2.357       2.471\n",
      "C(cluster)[T.1]     0.4094      0.036     11.233      0.000       0.338       0.481\n",
      "C(cluster)[T.2]     0.5800      0.035     16.486      0.000       0.511       0.649\n",
      "==============================================================================\n",
      "Omnibus:                      163.938   Durbin-Watson:                   2.006\n",
      "Prob(Omnibus):                  0.000   Jarque-Bera (JB):               97.809\n",
      "Skew:                          -0.288   Prob(JB):                     5.77e-22\n",
      "Kurtosis:                       2.366   Cond. No.                         4.69\n",
      "==============================================================================\n",
      "\n",
      "Warnings:\n",
      "[1] Standard Errors assume that the covariance matrix of the errors is correctly specified.\n"
     ]
    }
   ],
   "source": [
    "gpamod = smf.ols(formula='GPA1 ~ C(cluster)', data=sub1).fit()\n",
    "print (gpamod.summary())"
   ]
  },
  {
   "cell_type": "code",
   "execution_count": 19,
   "metadata": {},
   "outputs": [
    {
     "name": "stdout",
     "output_type": "stream",
     "text": [
      "means for GPA by cluster\n",
      "             GPA1\n",
      "cluster          \n",
      "0        2.414264\n",
      "1        2.823620\n",
      "2        2.994234\n"
     ]
    }
   ],
   "source": [
    "print ('means for GPA by cluster')\n",
    "m1= sub1.groupby('cluster').mean()\n",
    "print (m1)\n"
   ]
  },
  {
   "cell_type": "code",
   "execution_count": 20,
   "metadata": {},
   "outputs": [
    {
     "name": "stdout",
     "output_type": "stream",
     "text": [
      "standard deviations for GPA by cluster\n",
      "             GPA1\n",
      "cluster          \n",
      "0        0.780929\n",
      "1        0.735622\n",
      "2        0.734869\n"
     ]
    }
   ],
   "source": [
    "print ('standard deviations for GPA by cluster')\n",
    "m2= sub1.groupby('cluster').std()\n",
    "print (m2)"
   ]
  },
  {
   "cell_type": "code",
   "execution_count": 21,
   "metadata": {},
   "outputs": [
    {
     "name": "stdout",
     "output_type": "stream",
     "text": [
      "Multiple Comparison of Means - Tukey HSD,FWER=0.05\n",
      "===========================================\n",
      "group1 group2 meandiff lower  upper  reject\n",
      "-------------------------------------------\n",
      "  0      1     0.4094  0.3239 0.4948  True \n",
      "  0      2      0.58   0.4975 0.6625  True \n",
      "  1      2     0.1706  0.101  0.2402  True \n",
      "-------------------------------------------\n"
     ]
    }
   ],
   "source": [
    "mc1 = multi.MultiComparison(sub1['GPA1'], sub1['cluster'])\n",
    "res1 = mc1.tukeyhsd()\n",
    "print(res1.summary())"
   ]
  },
  {
   "cell_type": "code",
   "execution_count": null,
   "metadata": {
    "collapsed": true
   },
   "outputs": [],
   "source": []
  }
 ],
 "metadata": {
  "kernelspec": {
   "display_name": "Python 3",
   "language": "python",
   "name": "python3"
  },
  "language_info": {
   "codemirror_mode": {
    "name": "ipython",
    "version": 3
   },
   "file_extension": ".py",
   "mimetype": "text/x-python",
   "name": "python",
   "nbconvert_exporter": "python",
   "pygments_lexer": "ipython3",
   "version": "3.6.3"
  }
 },
 "nbformat": 4,
 "nbformat_minor": 2
}

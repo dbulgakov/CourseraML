{
 "cells": [
  {
   "cell_type": "markdown",
   "metadata": {},
   "source": [
    "### Решение задания на тему \"K-nearest neighbors model (KNN)\" по курсу «Machine Learning for Data Analysis»"
   ]
  },
  {
   "cell_type": "code",
   "execution_count": 18,
   "metadata": {
    "collapsed": true
   },
   "outputs": [],
   "source": [
    "# импорт библиотеки с датасетами\n",
    "from sklearn import datasets"
   ]
  },
  {
   "cell_type": "code",
   "execution_count": 19,
   "metadata": {
    "collapsed": true
   },
   "outputs": [],
   "source": [
    "# загрузка датасета \"Ирисы\"\n",
    "iris = datasets.load_iris()"
   ]
  },
  {
   "cell_type": "code",
   "execution_count": 20,
   "metadata": {
    "collapsed": true
   },
   "outputs": [],
   "source": [
    "# кросс-валидация\n",
    "from sklearn.model_selection import train_test_split"
   ]
  },
  {
   "cell_type": "code",
   "execution_count": 21,
   "metadata": {
    "collapsed": true
   },
   "outputs": [],
   "source": [
    "X_train, X_test, y_train, y_test = train_test_split(iris.data, iris.target, test_size=0.4, random_state=0)"
   ]
  },
  {
   "cell_type": "code",
   "execution_count": 22,
   "metadata": {
    "collapsed": true
   },
   "outputs": [],
   "source": [
    "# импорт классификатора\n",
    "from sklearn.neighbors import KNeighborsClassifier\n",
    "clf = KNeighborsClassifier(n_neighbors=3)"
   ]
  },
  {
   "cell_type": "code",
   "execution_count": 23,
   "metadata": {},
   "outputs": [],
   "source": [
    "# обучение классификатора и предсказание на тестовых данных\n",
    "clf.fit(X_train, y_train)\n",
    "y_predicted = clf.predict(X_test)"
   ]
  },
  {
   "cell_type": "code",
   "execution_count": 24,
   "metadata": {
    "collapsed": true
   },
   "outputs": [],
   "source": [
    "# импорт библиотеки numpy\n",
    "import numpy as np"
   ]
  },
  {
   "cell_type": "code",
   "execution_count": 25,
   "metadata": {},
   "outputs": [
    {
     "name": "stdout",
     "output_type": "stream",
     "text": [
      "Accuracy is 0.933333333333\n"
     ]
    }
   ],
   "source": [
    "# оценка модели с помощью метрики Accuracy\n",
    "print(\"Accuracy is\", np.mean(y_test==y_predicted))"
   ]
  },
  {
   "cell_type": "markdown",
   "metadata": {},
   "source": [
    "#### Дополнительное задание (настройка числа ближайших соседей)"
   ]
  },
  {
   "cell_type": "code",
   "execution_count": 28,
   "metadata": {},
   "outputs": [
    {
     "name": "stdout",
     "output_type": "stream",
     "text": [
      "k = 1 ; accuracy = 0.916666666667\n",
      "k = 2 ; accuracy = 0.883333333333\n",
      "k = 3 ; accuracy = 0.933333333333\n",
      "k = 4 ; accuracy = 0.9\n",
      "k = 5 ; accuracy = 0.95\n",
      "k = 6 ; accuracy = 0.916666666667\n",
      "k = 7 ; accuracy = 0.966666666667\n",
      "k = 8 ; accuracy = 0.933333333333\n",
      "k = 9 ; accuracy = 0.966666666667\n",
      "k = 10 ; accuracy = 0.966666666667\n",
      "k = 11 ; accuracy = 0.966666666667\n",
      "k = 12 ; accuracy = 0.95\n",
      "k = 13 ; accuracy = 0.95\n",
      "k = 14 ; accuracy = 0.916666666667\n",
      "k = 15 ; accuracy = 0.933333333333\n",
      "k = 16 ; accuracy = 0.916666666667\n",
      "k = 17 ; accuracy = 0.933333333333\n",
      "k = 18 ; accuracy = 0.933333333333\n",
      "k = 19 ; accuracy = 0.933333333333\n"
     ]
    }
   ],
   "source": [
    "for k in range(1, 20):\n",
    "    y_predicted = KNeighborsClassifier(n_neighbors=k).fit(X_train, y_train).predict(X_test)\n",
    "    print(\"k =\", k, \"; accuracy =\", np.mean(y_predicted==y_test))"
   ]
  },
  {
   "cell_type": "markdown",
   "metadata": {},
   "source": [
    "Как можно наблюдать, точность модели меняется в зависимости от значения k"
   ]
  },
  {
   "cell_type": "code",
   "execution_count": null,
   "metadata": {
    "collapsed": true
   },
   "outputs": [],
   "source": []
  }
 ],
 "metadata": {
  "kernelspec": {
   "display_name": "Python 3",
   "language": "python",
   "name": "python3"
  },
  "language_info": {
   "codemirror_mode": {
    "name": "ipython",
    "version": 3
   },
   "file_extension": ".py",
   "mimetype": "text/x-python",
   "name": "python",
   "nbconvert_exporter": "python",
   "pygments_lexer": "ipython3",
   "version": "3.6.2"
  }
 },
 "nbformat": 4,
 "nbformat_minor": 2
}
